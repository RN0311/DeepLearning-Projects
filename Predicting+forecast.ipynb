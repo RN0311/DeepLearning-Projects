{
 "cells": [
  {
   "cell_type": "code",
   "execution_count": null,
   "metadata": {
    "collapsed": false
   },
   "outputs": [],
   "source": [
    "!pip install theano"
   ]
  },
  {
   "cell_type": "code",
   "execution_count": 22,
   "metadata": {
    "collapsed": false
   },
   "outputs": [],
   "source": [
    "import theano"
   ]
  },
  {
   "cell_type": "code",
   "execution_count": 16,
   "metadata": {
    "collapsed": false
   },
   "outputs": [
    {
     "name": "stdout",
     "output_type": "stream",
     "text": [
      "Requirement already satisfied: conda in c:\\programdata\\anaconda3\\lib\\site-packages\n"
     ]
    }
   ],
   "source": [
    "!pip install conda"
   ]
  },
  {
   "cell_type": "code",
   "execution_count": 21,
   "metadata": {
    "collapsed": false
   },
   "outputs": [
    {
     "name": "stdout",
     "output_type": "stream",
     "text": [
      "Collecting m2w64-toolchain\n"
     ]
    },
    {
     "name": "stderr",
     "output_type": "stream",
     "text": [
      "  Could not find a version that satisfies the requirement m2w64-toolchain (from versions: )\n",
      "No matching distribution found for m2w64-toolchain\n"
     ]
    }
   ],
   "source": [
    "!pip install m2w64-toolchain"
   ]
  },
  {
   "cell_type": "code",
   "execution_count": 25,
   "metadata": {
    "collapsed": false
   },
   "outputs": [
    {
     "name": "stdout",
     "output_type": "stream",
     "text": [
      "6.0\n"
     ]
    }
   ],
   "source": [
    "from theano import tensor as t\n",
    "a = t.scalar()\n",
    "b = t.scalar()\n",
    "c = a*b\n",
    "#Define a function which computes numeric values using these functions\n",
    "mul = theano.function(inputs=[a,b],outputs=c)\n",
    "#Execute the function on the data\n",
    "multiply = mul(3,2)\n",
    "print(multiply)"
   ]
  },
  {
   "cell_type": "code",
   "execution_count": 26,
   "metadata": {
    "collapsed": false
   },
   "outputs": [
    {
     "name": "stdout",
     "output_type": "stream",
     "text": [
      "Requirement already satisfied: sklearn in c:\\programdata\\anaconda3\\lib\\site-packages\n",
      "Requirement already satisfied: scikit-learn in c:\\programdata\\anaconda3\\lib\\site-packages (from sklearn)\n"
     ]
    }
   ],
   "source": [
    "!pip install sklearn"
   ]
  },
  {
   "cell_type": "code",
   "execution_count": 32,
   "metadata": {
    "collapsed": false
   },
   "outputs": [
    {
     "name": "stdout",
     "output_type": "stream",
     "text": [
      "Requirement already satisfied: Quandl in c:\\programdata\\anaconda3\\lib\\site-packages\n",
      "Requirement already satisfied: more-itertools in c:\\programdata\\anaconda3\\lib\\site-packages (from Quandl)\n",
      "Requirement already satisfied: numpy>=1.8 in c:\\programdata\\anaconda3\\lib\\site-packages (from Quandl)\n",
      "Requirement already satisfied: requests>=2.7.0 in c:\\programdata\\anaconda3\\lib\\site-packages (from Quandl)\n",
      "Requirement already satisfied: six in c:\\programdata\\anaconda3\\lib\\site-packages (from Quandl)\n",
      "Requirement already satisfied: pyOpenSSL in c:\\programdata\\anaconda3\\lib\\site-packages (from Quandl)\n",
      "Requirement already satisfied: python-dateutil in c:\\programdata\\anaconda3\\lib\\site-packages (from Quandl)\n",
      "Requirement already satisfied: ndg-httpsclient in c:\\programdata\\anaconda3\\lib\\site-packages (from Quandl)\n",
      "Requirement already satisfied: pyasn1 in c:\\programdata\\anaconda3\\lib\\site-packages (from Quandl)\n",
      "Requirement already satisfied: pandas>=0.14 in c:\\programdata\\anaconda3\\lib\\site-packages (from Quandl)\n",
      "Requirement already satisfied: inflection>=0.3.1 in c:\\programdata\\anaconda3\\lib\\site-packages (from Quandl)\n",
      "Requirement already satisfied: cryptography>=1.3.4 in c:\\programdata\\anaconda3\\lib\\site-packages (from pyOpenSSL->Quandl)\n",
      "Requirement already satisfied: pytz>=2011k in c:\\programdata\\anaconda3\\lib\\site-packages (from pandas>=0.14->Quandl)\n",
      "Requirement already satisfied: idna>=2.0 in c:\\programdata\\anaconda3\\lib\\site-packages (from cryptography>=1.3.4->pyOpenSSL->Quandl)\n",
      "Requirement already satisfied: setuptools>=11.3 in c:\\programdata\\anaconda3\\lib\\site-packages\\setuptools-27.2.0-py3.6.egg (from cryptography>=1.3.4->pyOpenSSL->Quandl)\n",
      "Requirement already satisfied: cffi>=1.4.1 in c:\\programdata\\anaconda3\\lib\\site-packages (from cryptography>=1.3.4->pyOpenSSL->Quandl)\n",
      "Requirement already satisfied: pycparser in c:\\programdata\\anaconda3\\lib\\site-packages (from cffi>=1.4.1->cryptography>=1.3.4->pyOpenSSL->Quandl)\n"
     ]
    }
   ],
   "source": [
    "!pip install Quandl"
   ]
  },
  {
   "cell_type": "code",
   "execution_count": 1,
   "metadata": {
    "collapsed": false
   },
   "outputs": [
    {
     "name": "stderr",
     "output_type": "stream",
     "text": [
      "C:\\ProgramData\\Anaconda3\\lib\\site-packages\\sklearn\\cross_validation.py:44: DeprecationWarning: This module was deprecated in version 0.18 in favor of the model_selection module into which all the refactored classes and functions are moved. Also note that the interface of the new CV iterators are different from that of this module. This module will be removed in 0.20.\n",
      "  \"This module will be removed in 0.20.\", DeprecationWarning)\n"
     ]
    }
   ],
   "source": [
    "import pandas as pd\n",
    "import quandl\n",
    "import math\n",
    "import numpy as np\n",
    "import sklearn\n",
    "import datetime \n",
    "import pickling \n",
    "#from datetime import datetime\n",
    "import matplotlib.pyplot as plt\n",
    "from matplotlib import style\n",
    "from sklearn import preprocessing, cross_validation, svm #SVM is useful for regression\n",
    "from sklearn.linear_model import LinearRegression\n",
    "df = quandl.get('WIKI/GOOGL')\n",
    "#Linear Regression and predicting forecast"
   ]
  },
  {
   "cell_type": "code",
   "execution_count": 2,
   "metadata": {
    "collapsed": false
   },
   "outputs": [
    {
     "name": "stdout",
     "output_type": "stream",
     "text": [
      "            Adj. Close    HL_PCT  PCT_Change  Adj. Volume\n",
      "Date                                                     \n",
      "2004-08-19   50.322842  3.712563    0.324968   44659000.0\n",
      "2004-08-20   54.322689  0.710922    7.227007   22834300.0\n",
      "2004-08-23   54.869377  3.729433   -1.227880   18256100.0\n",
      "2004-08-24   52.597363  6.417469   -5.726357   15247300.0\n",
      "2004-08-25   53.164113  1.886792    1.183658    9188600.0\n",
      "            Adj. Close    HL_PCT  PCT_Change  Adj. Volume   label\n",
      "Date                                                             \n",
      "2017-03-30      849.48  0.296652   -0.293434     949398.0  942.17\n",
      "2017-03-31      847.80  0.207596    0.114545    1440982.0  950.50\n",
      "2017-04-03      856.75  0.262620    0.942563    1969402.0  954.65\n",
      "2017-04-04      852.57  0.050436    0.538915    1348494.0  964.07\n",
      "2017-04-05      848.91  1.375882   -0.678593    1855153.0  970.55\n"
     ]
    }
   ],
   "source": [
    "df = df[['Adj. Volume','Adj. Close','Adj. Low','Adj. High','Adj. Open',]]\n",
    "\n",
    "df['HL_PCT'] = (df['Adj. High']-df['Adj. Close'])/df['Adj. Close']*100.0\n",
    "\n",
    "df['PCT_Change'] =(df['Adj. Close']-df['Adj. Open'])/df['Adj. Open']*100.0 \n",
    "\n",
    "df = df[['Adj. Close', 'HL_PCT', 'PCT_Change',  'Adj. Volume']]\n",
    "\n",
    "print(df.head())\n",
    "\n",
    "forecast_col = 'Adj. Close'\n",
    "#Remove non-available dataset\n",
    "df.fillna(-9999,inplace=True)\n",
    "\n",
    "forecast_out = int(math.ceil(0.01*len(df)))\n",
    "\n",
    "df['label'] = df[forecast_col].shift(-forecast_out)\n",
    "\n",
    "df.dropna(inplace=True)\n",
    "\n",
    "print(df.tail())"
   ]
  },
  {
   "cell_type": "code",
   "execution_count": 126,
   "metadata": {
    "collapsed": false
   },
   "outputs": [
    {
     "name": "stdout",
     "output_type": "stream",
     "text": [
      "            Adj. Close    HL_PCT  PCT_Change  Adj. Volume      label\n",
      "Date                                                                \n",
      "2004-08-19   50.322842  3.712563    0.324968   44659000.0  68.752232\n",
      "2004-08-20   54.322689  0.710922    7.227007   22834300.0  69.639972\n",
      "2004-08-23   54.869377  3.729433   -1.227880   18256100.0  69.078238\n",
      "2004-08-24   52.597363  6.417469   -5.726357   15247300.0  67.839414\n",
      "2004-08-25   53.164113  1.886792    1.183658    9188600.0  68.912727\n",
      "0.97586994003\n",
      "[ 854.74926124  858.89347804  861.52234447  863.65048558  863.3219862\n",
      "  860.25009897  862.18247872  857.07873747  868.82621191  861.85489149\n",
      "  861.57828823  859.75340018  863.54926123  865.97781673  870.0152187\n",
      "  873.64520004  876.87074521  878.34646715  880.72425916  882.34755624\n",
      "  884.40500252  880.07987129  860.14219436  861.77300663  851.02769971\n",
      "  846.53346723  850.34356507  852.59900142  862.070568    861.96415512\n",
      "  860.07469037  868.63315948  864.96550755] 0.97586994003 33\n"
     ]
    },
    {
     "data": {
      "image/png": "[encoded data removed]",
      "text/plain": [
       "<matplotlib.figure.Figure at 0xcb14dd8>"
      ]
     },
     "metadata": {},
     "output_type": "display_data"
    }
   ],
   "source": [
    "x = np.array(df.drop(['label'],1))\n",
    "y = np.array(df['label'])\n",
    "x = preprocessing.scale(x)\n",
    "x_lately = x[-forecast_out:]\n",
    "\n",
    "\n",
    "\n",
    "df.dropna(inplace = True)\n",
    "\n",
    "print(df.head())\n",
    "\n",
    "x_train, x_test, y_train, y_test = cross_validation.train_test_split(x,y, test_size = 0.2)\n",
    "clf = LinearRegression()\n",
    "clf.fit(x_train,y_train)\n",
    "accuracy = clf.score(x_test,y_test)\n",
    "print(accuracy)\n",
    "forecast_set = clf.predict(x_lately)\n",
    "print(forecast_set,accuracy,forecast_out)\n",
    "\n",
    "df['Forecast'] = np.nan\n",
    "last_date = df.iloc[-1].name\n",
    "last_unix = last_date.timestamp()\n",
    "one_day = 86400\n",
    "next_unix = last_unix + one_day\n",
    "for i in forecast_set:\n",
    "    next_date = datetime.datetime.fromtimestamp(next_unix)\n",
    "    next_unix +=  one_day\n",
    "    df.loc[next_date] = [np.nan for _ in range(len(df.columns)-1)] + [i]\n",
    "\n",
    "    \n",
    "df['Adj. Close'].plot()\n",
    "df['Forecast'].plot()\n",
    "plt.legend(loc = 4)\n",
    "plt.xlabel('Date')\n",
    "plt.ylabel('Price')\n",
    "plt.show()"
   ]
  },
  {
   "cell_type": "code",
   "execution_count": null,
   "metadata": {
    "collapsed": true
   },
   "outputs": [],
   "source": []
  }
 ],
 "metadata": {
  "kernelspec": {
   "display_name": "Python 3",
   "language": "python",
   "name": "python3"
  },
  "language_info": {
   "codemirror_mode": {
    "name": "ipython",
    "version": 3
   },
   "file_extension": ".py",
   "mimetype": "text/x-python",
   "name": "python",
   "nbconvert_exporter": "python",
   "pygments_lexer": "ipython3",
   "version": "3.6.0"
  }
 },
 "nbformat": 4,
 "nbformat_minor": 2
}
